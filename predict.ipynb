{
 "cells": [
  {
   "cell_type": "code",
   "execution_count": 1,
   "metadata": {},
   "outputs": [
    {
     "name": "stdout",
     "output_type": "stream",
     "text": [
      "WARNING:tensorflow:From d:\\JetBrains\\PyCharm Community Edition 2022.1\\Enviroments\\MachineLearning\\lib\\site-packages\\keras\\src\\losses.py:2976: The name tf.losses.sparse_softmax_cross_entropy is deprecated. Please use tf.compat.v1.losses.sparse_softmax_cross_entropy instead.\n",
      "\n"
     ]
    }
   ],
   "source": [
    "import numpy as np\n",
    "import tensorflow.keras as keras\n",
    "from scipy.ndimage import zoom\n",
    "import os\n",
    "import nibabel as nib   \n",
    "from scipy.ndimage import zoom\n"
   ]
  },
  {
   "cell_type": "code",
   "execution_count": 2,
   "metadata": {},
   "outputs": [],
   "source": [
    "\n",
    "# Image Preprocessing Methods\n",
    "def preprocess_image(img_path):\n",
    "    time_length = 177\n",
    "    img = nib.load(img_path)\n",
    "\n",
    "    pp_img = None\n",
    "    if img.shape[3] > time_length:\n",
    "        pp_img = truncate_image(img)\n",
    "    elif img.shape[3] < time_length:\n",
    "        pp_img = pad_image(img)\n",
    "    else:\n",
    "        pp_img = img.get_fdata()\n",
    "\n",
    "    # For each image at the index-th time step, do this\n",
    "    new_x=28/49\n",
    "    new_y=28/58\n",
    "    new_z=28/47\n",
    "\n",
    "    new_img = []\n",
    "    for index in range(time_length):\n",
    "        z_img = zoom(pp_img[:,:,:,index], (new_x,new_y,new_z), order=1)\n",
    "        new_img.append(z_img.reshape((28,28,28,1)))\n",
    "\n",
    "    f_img = np.array(new_img)\n",
    "    return f_img\n",
    "\n",
    "def truncate_image(img):\n",
    "    time_length = 177\n",
    "    return img.get_fdata()[:,:,:,:time_length]\n",
    "\n",
    "def pad_image(img):\n",
    "    x_dim = 49\n",
    "    y_dim = 58\n",
    "    z_dim = 47\n",
    "    time_length = 177\n",
    "    img_padding = np.expand_dims(np.zeros((x_dim,y_dim,z_dim)), axis=3)\n",
    "    amt_to_fill = time_length - img.get_fdata().shape[3]\n",
    "    padded_img = img.get_fdata()\n",
    "    for _ in range(amt_to_fill):\n",
    "        padded_img = np.append(arr=padded_img, values=img_padding, axis=3)\n",
    "\n",
    "    return padded_img\n"
   ]
  },
  {
   "cell_type": "code",
   "execution_count": 3,
   "metadata": {},
   "outputs": [
    {
     "name": "stdout",
     "output_type": "stream",
     "text": [
      "WARNING:tensorflow:From d:\\JetBrains\\PyCharm Community Edition 2022.1\\Enviroments\\MachineLearning\\lib\\site-packages\\keras\\src\\backend.py:1398: The name tf.executing_eagerly_outside_functions is deprecated. Please use tf.compat.v1.executing_eagerly_outside_functions instead.\n",
      "\n"
     ]
    }
   ],
   "source": [
    "\n",
    "# Load the model\n",
    "model = keras.models.load_model(r'D:\\All Projects\\ML\\ADHD\\Diagnosing-ADHD-With-ConvLSTM-master\\Notebooks\\my_model.h5')"
   ]
  },
  {
   "cell_type": "code",
   "execution_count": 4,
   "metadata": {},
   "outputs": [],
   "source": [
    "\n",
    "# Load the image\n",
    "img_path = r'D:\\All Projects\\ML\\ADHD\\Diagnosing-ADHD-With-ConvLSTM-master\\Samples\\3\\sfnwmrda3390312_session_1_rest_1.nii'\n",
    "img = preprocess_image(img_path)\n",
    "\n",
    "input_shape=(177,28,28,28,1)\n",
    "\n",
    "reshaped_data = np.reshape(img, input_shape)"
   ]
  },
  {
   "cell_type": "code",
   "execution_count": 7,
   "metadata": {},
   "outputs": [
    {
     "name": "stdout",
     "output_type": "stream",
     "text": [
      "1/1 [==============================] - 14s 14s/step\n"
     ]
    },
    {
     "data": {
      "text/plain": [
       "array([[0.26227447]], dtype=float32)"
      ]
     },
     "execution_count": 7,
     "metadata": {},
     "output_type": "execute_result"
    }
   ],
   "source": [
    "model.predict(np.expand_dims(reshaped_data, axis=0))"
   ]
  },
  {
   "cell_type": "code",
   "execution_count": null,
   "metadata": {},
   "outputs": [],
   "source": []
  }
 ],
 "metadata": {
  "kernelspec": {
   "display_name": "MachineLearning",
   "language": "python",
   "name": "python3"
  },
  "language_info": {
   "codemirror_mode": {
    "name": "ipython",
    "version": 3
   },
   "file_extension": ".py",
   "mimetype": "text/x-python",
   "name": "python",
   "nbconvert_exporter": "python",
   "pygments_lexer": "ipython3",
   "version": "3.9.13"
  }
 },
 "nbformat": 4,
 "nbformat_minor": 2
}
